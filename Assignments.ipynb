{
  "nbformat": 4,
  "nbformat_minor": 0,
  "metadata": {
    "colab": {
      "name": "Assignments.ipynb",
      "provenance": [],
      "collapsed_sections": [],
      "authorship_tag": "ABX9TyMpPkWf2vH+LaFdbRVhkEJZ",
      "include_colab_link": true
    },
    "kernelspec": {
      "name": "python3",
      "display_name": "Python 3"
    }
  },
  "cells": [
    {
      "cell_type": "markdown",
      "metadata": {
        "id": "view-in-github",
        "colab_type": "text"
      },
      "source": [
        "<a href=\"https://colab.research.google.com/github/srinidhi-anand/ML_django_Proj/blob/main/Assignments.ipynb\" target=\"_parent\"><img src=\"https://colab.research.google.com/assets/colab-badge.svg\" alt=\"Open In Colab\"/></a>"
      ]
    },
    {
      "cell_type": "markdown",
      "metadata": {
        "id": "geSZMtuyUQ0R"
      },
      "source": [
        "### **Problem Statement 1 : Python Program to display NSE details based on the stock names**\n"
      ]
    },
    {
      "cell_type": "code",
      "metadata": {
        "colab": {
          "base_uri": "https://localhost:8080/"
        },
        "id": "YJCWG0TpxcFH",
        "outputId": "c4d437ce-6cd2-4f50-aff1-5ef100384da0"
      },
      "source": [
        "# Python Program to NSE details based on the stock names\n",
        "import xlrd\n",
        "import os\n",
        "import pandas as pd\n",
        "\n",
        "\n",
        "def nseData(stock_list): \n",
        "    # Converting the downloaded csv file from https//www.nseindia.com to excel file\n",
        "    if (not os.path.exists('/MW-NIFTY-50-02-Dec-2020.xlsx')):\n",
        "      read_file = pd.read_csv (r'/MW-NIFTY-50-02-Dec-2020.csv')\n",
        "      read_file.to_excel (r'/MW-NIFTY-50-02-Dec-2020.xlsx', index = None, header=True)\n",
        "\n",
        "    # Output data required with column index in Dict format\n",
        "    col_data ={1:'Open',2:'High',3:'Low',7:'Delivery Change',8:'Volume',9:'Delivery data'}\n",
        "    data_required = []\n",
        "\n",
        "    # Read the Excel File\n",
        "    workbook = xlrd.open_workbook('/MW-NIFTY-50-02-Dec-2020.xlsx', on_demand=True)\n",
        "    worksheet = workbook.sheet_by_index(0)\n",
        "\n",
        "    # Loop the excel file data to get the Ouput\n",
        "    for row in range(worksheet.nrows):\n",
        "        if worksheet.cell(row,0).value in stock_list:\n",
        "            dicts={}\n",
        "            dicts['Stock_name'] =worksheet.cell(row,0).value   #Dict formation of each stockname and their details\n",
        "            for col,data in col_data.items():\n",
        "              dicts[data] = worksheet.cell(row,col).value\n",
        "            data_required.append(dicts)\n",
        "\n",
        "    return data_required\n",
        "\n",
        "\n",
        "# Input Data\n",
        "stocknames = 'RELIANCE,HDFCBANK,ADANIPORTS,ITC,SBI,IOC,RBLBANK,SBILIFE'\n",
        "\n",
        "if type(stocknames) == str and stocknames != '':\n",
        "  stocknames = tuple(list(str(stocknames).split(\",\"))) if str(stocknames).find(\",\") > 0 else \"('\"+stocknames+\"')\"\n",
        "elif type(stocknames) == list and len(stocknames) > 0:\n",
        "  stocknames =tuple(stocknames) if len(stocknames) > 1 else \"('\"+stocknames[0]+\"')\"\n",
        "elif type(stocknames) == tuple:\n",
        "  stocknames = stocknames\n",
        "else:\n",
        "  print('No input provided. No data Output')\n",
        "\n",
        "# Function call\n",
        "if stocknames != '':\n",
        "  print(nseData(stocknames))\n"
      ],
      "execution_count": null,
      "outputs": [
        {
          "output_type": "stream",
          "text": [
            "[{'Stock_name': 'ADANIPORTS', 'Open': '424.90', 'High': '442.00', 'Low': '420.35', 'Delivery Change': '3.23', 'Volume': 13049398.0, 'Delivery data': '5,662,786,262.10'}, {'Stock_name': 'SBILIFE', 'Open': '853.00', 'High': '879.25', 'Low': '850.30', 'Delivery Change': '3.06', 'Volume': 2097626.0, 'Delivery data': '1,813,649,392.12'}, {'Stock_name': 'IOC', 'Open': '85.85', 'High': '89.35', 'Low': '85.60', 'Delivery Change': '2.91', 'Volume': 44728000.0, 'Delivery data': '3,953,507,920.00'}, {'Stock_name': 'ITC', 'Open': '195.00', 'High': '198.75', 'Low': '193.55', 'Delivery Change': '0.75', 'Volume': 28425948.0, 'Delivery data': '5,575,465,440.72'}, {'Stock_name': 'RELIANCE', 'Open': '1,958.50', 'High': '1,962.00', 'Low': '1,935.00', 'Delivery Change': '0.21', 'Volume': 10240168.0, 'Delivery data': '19,945,389,623.68'}, {'Stock_name': 'HDFCBANK', 'Open': '1,431.00', 'High': '1,431.80', 'Low': '1,394.80', 'Delivery Change': '-1.95', 'Volume': 8946075.0, 'Delivery data': '12,616,023,347.25'}]\n"
          ],
          "name": "stdout"
        }
      ]
    },
    {
      "cell_type": "markdown",
      "metadata": {
        "id": "GqUgUWSQUeS_"
      },
      "source": [
        "## **Problem Statement 2 :  Python Date function Program**"
      ]
    },
    {
      "cell_type": "code",
      "metadata": {
        "colab": {
          "base_uri": "https://localhost:8080/"
        },
        "id": "WVpyeK7OUjD9",
        "outputId": "b444ccb0-5cd5-46bc-d06e-21a0b76d6011"
      },
      "source": [
        "# Python Date function Program\n",
        "from datetime import datetime\n",
        "import calendar\n",
        "\n",
        "class datetimeFunc():\n",
        "    def __init__(self):\n",
        "        self.month = datetime.now().month\n",
        "        self.year = datetime.now().year\n",
        "        \n",
        "        \n",
        "  # to find the whether the input date is the last thurday of the respective month\n",
        "    def isLastThursday(self,input_date) :\n",
        "        dates = datetime.strptime(input_date, '%d-%m-%y').date()\n",
        "        c = calendar.Calendar(firstweekday=calendar.SUNDAY)\n",
        "        monthcal = c.monthdatescalendar(dates.year,dates.month)\n",
        "        fourth_thursday = [day for week in monthcal for day in week if day.weekday() == calendar.THURSDAY and day.day == dates.day]\n",
        "        \n",
        "        return 'True' if len(fourth_thursday) == 1 else 'False'\n",
        "  \n",
        "  \n",
        "  # to find the last thurday of the given input month\n",
        "    def getLastThursday(self,input_month):\n",
        "        c = calendar.Calendar(firstweekday=calendar.SUNDAY)\n",
        "        monthcal = c.monthdatescalendar(self.year,int(input_month))\n",
        "        fourth_thursday = [day for week in monthcal for day in week if day.weekday() == calendar.THURSDAY and day.month == int(input_month)][-1]\n",
        "        Thurs_date = str(fourth_thursday).split(\"-\")[2]\n",
        "        \n",
        "        return Thurs_date\n",
        "    \n",
        "   \n",
        "daytime = datetimeFunc() \n",
        "# function calls \n",
        "print(daytime.isLastThursday('26-11-20'))\n",
        "print(daytime.getLastThursday('11'))\n"
      ],
      "execution_count": null,
      "outputs": [
        {
          "output_type": "stream",
          "text": [
            "True\n",
            "26\n"
          ],
          "name": "stdout"
        }
      ]
    }
  ]
}